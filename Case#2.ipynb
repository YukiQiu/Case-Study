{
 "cells": [
  {
   "cell_type": "markdown",
   "metadata": {},
   "source": [
    "For each year we need the following information:\n",
    "* Total revenue for the current year\n",
    "* New Customer Revenue e.g. new customers not present in previous year only\n",
    "* Existing Customer Growth. To calculate this, use the Revenue of existing customers for current year –(minus) Revenue of existing customers from the previous year\n",
    "* Revenue lost from attrition\n",
    "* Existing Customer Revenue Current Year\n",
    "* Existing Customer Revenue Prior Year\n",
    "* Total Customers Current Year\n",
    "* Total Customers Previous Year\n",
    "* New Customers\n",
    "* Lost Customers"
   ]
  },
  {
   "cell_type": "code",
   "execution_count": 1,
   "metadata": {},
   "outputs": [],
   "source": [
    "import pandas as pd\n",
    "import seaborn as sns\n",
    "import matplotlib.pyplot as plt\n",
    "import numpy as np"
   ]
  },
  {
   "cell_type": "code",
   "execution_count": 2,
   "metadata": {},
   "outputs": [
    {
     "data": {
      "text/html": [
       "<div>\n",
       "<style scoped>\n",
       "    .dataframe tbody tr th:only-of-type {\n",
       "        vertical-align: middle;\n",
       "    }\n",
       "\n",
       "    .dataframe tbody tr th {\n",
       "        vertical-align: top;\n",
       "    }\n",
       "\n",
       "    .dataframe thead th {\n",
       "        text-align: right;\n",
       "    }\n",
       "</style>\n",
       "<table border=\"1\" class=\"dataframe\">\n",
       "  <thead>\n",
       "    <tr style=\"text-align: right;\">\n",
       "      <th></th>\n",
       "      <th>Unnamed: 0</th>\n",
       "      <th>customer_email</th>\n",
       "      <th>net_revenue</th>\n",
       "      <th>year</th>\n",
       "    </tr>\n",
       "  </thead>\n",
       "  <tbody>\n",
       "    <tr>\n",
       "      <th>0</th>\n",
       "      <td>0</td>\n",
       "      <td>nhknapwsbx@gmail.com</td>\n",
       "      <td>249.92</td>\n",
       "      <td>2015</td>\n",
       "    </tr>\n",
       "    <tr>\n",
       "      <th>1</th>\n",
       "      <td>1</td>\n",
       "      <td>joiuzbvcpn@gmail.com</td>\n",
       "      <td>87.61</td>\n",
       "      <td>2015</td>\n",
       "    </tr>\n",
       "    <tr>\n",
       "      <th>2</th>\n",
       "      <td>2</td>\n",
       "      <td>ukkjctepxt@gmail.com</td>\n",
       "      <td>168.38</td>\n",
       "      <td>2015</td>\n",
       "    </tr>\n",
       "    <tr>\n",
       "      <th>3</th>\n",
       "      <td>3</td>\n",
       "      <td>gykatilzrt@gmail.com</td>\n",
       "      <td>62.40</td>\n",
       "      <td>2015</td>\n",
       "    </tr>\n",
       "    <tr>\n",
       "      <th>4</th>\n",
       "      <td>4</td>\n",
       "      <td>mmsgsrtxah@gmail.com</td>\n",
       "      <td>43.08</td>\n",
       "      <td>2015</td>\n",
       "    </tr>\n",
       "  </tbody>\n",
       "</table>\n",
       "</div>"
      ],
      "text/plain": [
       "   Unnamed: 0         customer_email  net_revenue  year\n",
       "0           0   nhknapwsbx@gmail.com       249.92  2015\n",
       "1           1   joiuzbvcpn@gmail.com        87.61  2015\n",
       "2           2   ukkjctepxt@gmail.com       168.38  2015\n",
       "3           3   gykatilzrt@gmail.com        62.40  2015\n",
       "4           4   mmsgsrtxah@gmail.com        43.08  2015"
      ]
     },
     "execution_count": 2,
     "metadata": {},
     "output_type": "execute_result"
    }
   ],
   "source": [
    "data = pd.read_csv('casestudy.csv')\n",
    "data.head()"
   ]
  },
  {
   "cell_type": "code",
   "execution_count": 3,
   "metadata": {},
   "outputs": [
    {
     "name": "stdout",
     "output_type": "stream",
     "text": [
      "<class 'pandas.core.frame.DataFrame'>\n",
      "RangeIndex: 685927 entries, 0 to 685926\n",
      "Data columns (total 4 columns):\n",
      " #   Column          Non-Null Count   Dtype  \n",
      "---  ------          --------------   -----  \n",
      " 0   Unnamed: 0      685927 non-null  int64  \n",
      " 1   customer_email  685927 non-null  object \n",
      " 2   net_revenue     685927 non-null  float64\n",
      " 3   year            685927 non-null  int64  \n",
      "dtypes: float64(1), int64(2), object(1)\n",
      "memory usage: 20.9+ MB\n"
     ]
    }
   ],
   "source": [
    "data.info()"
   ]
  },
  {
   "cell_type": "code",
   "execution_count": 4,
   "metadata": {},
   "outputs": [
    {
     "data": {
      "text/plain": [
       "2017    249987\n",
       "2015    231294\n",
       "2016    204646\n",
       "Name: year, dtype: int64"
      ]
     },
     "execution_count": 4,
     "metadata": {},
     "output_type": "execute_result"
    }
   ],
   "source": [
    "data['year'].value_counts()"
   ]
  },
  {
   "cell_type": "markdown",
   "metadata": {},
   "source": [
    "## Total Revenue for the current year"
   ]
  },
  {
   "cell_type": "code",
   "execution_count": 5,
   "metadata": {},
   "outputs": [
    {
     "data": {
      "text/html": [
       "<div>\n",
       "<style scoped>\n",
       "    .dataframe tbody tr th:only-of-type {\n",
       "        vertical-align: middle;\n",
       "    }\n",
       "\n",
       "    .dataframe tbody tr th {\n",
       "        vertical-align: top;\n",
       "    }\n",
       "\n",
       "    .dataframe thead th {\n",
       "        text-align: right;\n",
       "    }\n",
       "</style>\n",
       "<table border=\"1\" class=\"dataframe\">\n",
       "  <thead>\n",
       "    <tr style=\"text-align: right;\">\n",
       "      <th></th>\n",
       "      <th>year</th>\n",
       "      <th>net_revenue</th>\n",
       "    </tr>\n",
       "  </thead>\n",
       "  <tbody>\n",
       "    <tr>\n",
       "      <th>0</th>\n",
       "      <td>2015</td>\n",
       "      <td>29036749.19</td>\n",
       "    </tr>\n",
       "    <tr>\n",
       "      <th>1</th>\n",
       "      <td>2016</td>\n",
       "      <td>25730943.59</td>\n",
       "    </tr>\n",
       "    <tr>\n",
       "      <th>2</th>\n",
       "      <td>2017</td>\n",
       "      <td>31417495.03</td>\n",
       "    </tr>\n",
       "  </tbody>\n",
       "</table>\n",
       "</div>"
      ],
      "text/plain": [
       "   year  net_revenue\n",
       "0  2015  29036749.19\n",
       "1  2016  25730943.59\n",
       "2  2017  31417495.03"
      ]
     },
     "execution_count": 5,
     "metadata": {},
     "output_type": "execute_result"
    }
   ],
   "source": [
    "total_revenue = pd.pivot_table(data = data,\n",
    "                               values = 'net_revenue',\n",
    "                             index = 'year',\n",
    "                              aggfunc = 'sum').reset_index()\n",
    "total_revenue"
   ]
  },
  {
   "cell_type": "code",
   "execution_count": 6,
   "metadata": {},
   "outputs": [],
   "source": [
    "#data.groupby('year').sum()"
   ]
  },
  {
   "cell_type": "markdown",
   "metadata": {},
   "source": [
    "## New Customer Revenue e.g. new customers not present in previous year only"
   ]
  },
  {
   "cell_type": "code",
   "execution_count": 7,
   "metadata": {},
   "outputs": [],
   "source": [
    "# in 2015, not sure if these customers have made revenue before, I suppose all customers are new customers\n",
    "year1 = data.loc[data['year'] == 2015]\n",
    "year2 = data.loc[(data['year'] == 2016)]\n",
    "year3 = data.loc[(data['year'] == 2017)]\n",
    "year2_new = year2.loc[(data['customer_email'].isin(year1['customer_email']) == False)]\n",
    "year3_new = year3.loc[(data['customer_email'].isin(year2['customer_email']) == False)]\n",
    "total = pd.concat([year1,year2_new,year3_new])"
   ]
  },
  {
   "cell_type": "code",
   "execution_count": 8,
   "metadata": {},
   "outputs": [
    {
     "data": {
      "text/html": [
       "<div>\n",
       "<style scoped>\n",
       "    .dataframe tbody tr th:only-of-type {\n",
       "        vertical-align: middle;\n",
       "    }\n",
       "\n",
       "    .dataframe tbody tr th {\n",
       "        vertical-align: top;\n",
       "    }\n",
       "\n",
       "    .dataframe thead th {\n",
       "        text-align: right;\n",
       "    }\n",
       "</style>\n",
       "<table border=\"1\" class=\"dataframe\">\n",
       "  <thead>\n",
       "    <tr style=\"text-align: right;\">\n",
       "      <th></th>\n",
       "      <th>year</th>\n",
       "      <th>net_revenue</th>\n",
       "    </tr>\n",
       "  </thead>\n",
       "  <tbody>\n",
       "    <tr>\n",
       "      <th>0</th>\n",
       "      <td>2015</td>\n",
       "      <td>29036749.19</td>\n",
       "    </tr>\n",
       "    <tr>\n",
       "      <th>1</th>\n",
       "      <td>2016</td>\n",
       "      <td>18245491.01</td>\n",
       "    </tr>\n",
       "    <tr>\n",
       "      <th>2</th>\n",
       "      <td>2017</td>\n",
       "      <td>28776235.04</td>\n",
       "    </tr>\n",
       "  </tbody>\n",
       "</table>\n",
       "</div>"
      ],
      "text/plain": [
       "   year  net_revenue\n",
       "0  2015  29036749.19\n",
       "1  2016  18245491.01\n",
       "2  2017  28776235.04"
      ]
     },
     "execution_count": 8,
     "metadata": {},
     "output_type": "execute_result"
    }
   ],
   "source": [
    "total_new_revenue = pd.DataFrame(total['net_revenue'].groupby(total['year']).sum())\n",
    "total_new_revenue = total_new_revenue.reset_index()\n",
    "total_new_revenue"
   ]
  },
  {
   "cell_type": "markdown",
   "metadata": {},
   "source": [
    "## Existing Customer Growth"
   ]
  },
  {
   "cell_type": "code",
   "execution_count": 9,
   "metadata": {},
   "outputs": [
    {
     "data": {
      "text/html": [
       "<div>\n",
       "<style scoped>\n",
       "    .dataframe tbody tr th:only-of-type {\n",
       "        vertical-align: middle;\n",
       "    }\n",
       "\n",
       "    .dataframe tbody tr th {\n",
       "        vertical-align: top;\n",
       "    }\n",
       "\n",
       "    .dataframe thead th {\n",
       "        text-align: right;\n",
       "    }\n",
       "</style>\n",
       "<table border=\"1\" class=\"dataframe\">\n",
       "  <thead>\n",
       "    <tr style=\"text-align: right;\">\n",
       "      <th></th>\n",
       "      <th>year</th>\n",
       "      <th>existing_growth</th>\n",
       "    </tr>\n",
       "  </thead>\n",
       "  <tbody>\n",
       "    <tr>\n",
       "      <th>0</th>\n",
       "      <td>2015</td>\n",
       "      <td>0.00</td>\n",
       "    </tr>\n",
       "    <tr>\n",
       "      <th>1</th>\n",
       "      <td>2016</td>\n",
       "      <td>7485452.58</td>\n",
       "    </tr>\n",
       "    <tr>\n",
       "      <th>2</th>\n",
       "      <td>2017</td>\n",
       "      <td>-4844192.59</td>\n",
       "    </tr>\n",
       "  </tbody>\n",
       "</table>\n",
       "</div>"
      ],
      "text/plain": [
       "   year  existing_growth\n",
       "0  2015             0.00\n",
       "1  2016       7485452.58\n",
       "2  2017      -4844192.59"
      ]
     },
     "execution_count": 9,
     "metadata": {},
     "output_type": "execute_result"
    }
   ],
   "source": [
    "existing2 = year2.loc[(data['customer_email'].isin(year1['customer_email']) == True)]\n",
    "existing3 = year3.loc[(data['customer_email'].isin(year2['customer_email']) == True)]\n",
    "existing_customer_growth = pd.DataFrame({'year':[2015,2016,2017],'existing_growth':[0,existing2['net_revenue'].sum()-0,existing3['net_revenue'].sum()-existing2['net_revenue'].sum()]})\n",
    "existing_customer_growth"
   ]
  },
  {
   "cell_type": "markdown",
   "metadata": {},
   "source": [
    "## Revenue Lost from Attribution"
   ]
  },
  {
   "cell_type": "code",
   "execution_count": 10,
   "metadata": {},
   "outputs": [],
   "source": [
    "lost1 = year1.loc[year1['customer_email'].isin(year2['customer_email']) == False]\n",
    "lost2 = year2.loc[year2['customer_email'].isin(year3['customer_email']) == False]\n",
    "total_lost = pd.concat([lost1,lost2])"
   ]
  },
  {
   "cell_type": "code",
   "execution_count": 11,
   "metadata": {},
   "outputs": [
    {
     "data": {
      "text/html": [
       "<div>\n",
       "<style scoped>\n",
       "    .dataframe tbody tr th:only-of-type {\n",
       "        vertical-align: middle;\n",
       "    }\n",
       "\n",
       "    .dataframe tbody tr th {\n",
       "        vertical-align: top;\n",
       "    }\n",
       "\n",
       "    .dataframe thead th {\n",
       "        text-align: right;\n",
       "    }\n",
       "</style>\n",
       "<table border=\"1\" class=\"dataframe\">\n",
       "  <thead>\n",
       "    <tr style=\"text-align: right;\">\n",
       "      <th></th>\n",
       "      <th>year</th>\n",
       "      <th>revenue_lost_from_sttrition</th>\n",
       "    </tr>\n",
       "  </thead>\n",
       "  <tbody>\n",
       "    <tr>\n",
       "      <th>0</th>\n",
       "      <td>2015</td>\n",
       "      <td>0.00</td>\n",
       "    </tr>\n",
       "    <tr>\n",
       "      <th>1</th>\n",
       "      <td>2016</td>\n",
       "      <td>21571632.07</td>\n",
       "    </tr>\n",
       "    <tr>\n",
       "      <th>2</th>\n",
       "      <td>2017</td>\n",
       "      <td>23110294.94</td>\n",
       "    </tr>\n",
       "  </tbody>\n",
       "</table>\n",
       "</div>"
      ],
      "text/plain": [
       "   year  revenue_lost_from_sttrition\n",
       "0  2015                         0.00\n",
       "1  2016                  21571632.07\n",
       "2  2017                  23110294.94"
      ]
     },
     "execution_count": 11,
     "metadata": {},
     "output_type": "execute_result"
    }
   ],
   "source": [
    "revenue_attrition = pd.DataFrame(total_lost['net_revenue'].groupby(total_lost['year']+1).sum()).reset_index()\n",
    "revenue_attrition = revenue_attrition.append({'year':2015,'net_revenue':0},ignore_index = True).rename(columns = {'net_revenue':'revenue_lost_from_sttrition'})\n",
    "revenue_attrition=revenue_attrition.sort_values('year').reset_index(drop=True)\n",
    "revenue_attrition"
   ]
  },
  {
   "cell_type": "markdown",
   "metadata": {},
   "source": [
    "## Existing Customer Revenue Current Year"
   ]
  },
  {
   "cell_type": "code",
   "execution_count": 12,
   "metadata": {},
   "outputs": [],
   "source": [
    "year2_exist = data.loc[(data['year'] == 2016)& (data['customer_email'].isin(year1['customer_email']) == True)]\n",
    "year3_exist = data.loc[(data['year'] == 2017)& (data['customer_email'].isin(year2['customer_email']) == True)]\n",
    "total_exist = pd.concat([year2_exist,year3_exist])"
   ]
  },
  {
   "cell_type": "code",
   "execution_count": 13,
   "metadata": {},
   "outputs": [],
   "source": [
    "revenue_current = pd.DataFrame(total_exist['net_revenue'].groupby(total_exist.year).sum()).reset_index()"
   ]
  },
  {
   "cell_type": "code",
   "execution_count": 14,
   "metadata": {},
   "outputs": [
    {
     "data": {
      "text/html": [
       "<div>\n",
       "<style scoped>\n",
       "    .dataframe tbody tr th:only-of-type {\n",
       "        vertical-align: middle;\n",
       "    }\n",
       "\n",
       "    .dataframe tbody tr th {\n",
       "        vertical-align: top;\n",
       "    }\n",
       "\n",
       "    .dataframe thead th {\n",
       "        text-align: right;\n",
       "    }\n",
       "</style>\n",
       "<table border=\"1\" class=\"dataframe\">\n",
       "  <thead>\n",
       "    <tr style=\"text-align: right;\">\n",
       "      <th></th>\n",
       "      <th>year</th>\n",
       "      <th>revenue_existing_current</th>\n",
       "    </tr>\n",
       "  </thead>\n",
       "  <tbody>\n",
       "    <tr>\n",
       "      <th>0</th>\n",
       "      <td>2015</td>\n",
       "      <td>0.00</td>\n",
       "    </tr>\n",
       "    <tr>\n",
       "      <th>1</th>\n",
       "      <td>2016</td>\n",
       "      <td>7485452.58</td>\n",
       "    </tr>\n",
       "    <tr>\n",
       "      <th>2</th>\n",
       "      <td>2017</td>\n",
       "      <td>2641259.99</td>\n",
       "    </tr>\n",
       "  </tbody>\n",
       "</table>\n",
       "</div>"
      ],
      "text/plain": [
       "   year  revenue_existing_current\n",
       "0  2015                      0.00\n",
       "1  2016                7485452.58\n",
       "2  2017                2641259.99"
      ]
     },
     "execution_count": 14,
     "metadata": {},
     "output_type": "execute_result"
    }
   ],
   "source": [
    "revenue_current = revenue_current.append({'year':2015,'net_revenue':0},ignore_index = True).rename(columns = {'net_revenue':'revenue_existing_current'})\n",
    "revenue_current = revenue_current.sort_values('year').reset_index(drop=True)\n",
    "revenue_current"
   ]
  },
  {
   "cell_type": "markdown",
   "metadata": {},
   "source": [
    "## Existing Customer Revenue Prior Year"
   ]
  },
  {
   "cell_type": "code",
   "execution_count": 15,
   "metadata": {},
   "outputs": [],
   "source": [
    "previous1 = year1.loc[year1['customer_email'].isin(year2['customer_email']) == True]\n",
    "previous2 = year2.loc[year2['customer_email'].isin(year3['customer_email']) == True]\n",
    "total_previous = pd.concat([previous1,previous2])"
   ]
  },
  {
   "cell_type": "code",
   "execution_count": 16,
   "metadata": {},
   "outputs": [],
   "source": [
    "revenue_previous = pd.DataFrame(total_previous.net_revenue.groupby(total_previous['year']+1).sum()).reset_index()"
   ]
  },
  {
   "cell_type": "code",
   "execution_count": 17,
   "metadata": {},
   "outputs": [
    {
     "data": {
      "text/html": [
       "<div>\n",
       "<style scoped>\n",
       "    .dataframe tbody tr th:only-of-type {\n",
       "        vertical-align: middle;\n",
       "    }\n",
       "\n",
       "    .dataframe tbody tr th {\n",
       "        vertical-align: top;\n",
       "    }\n",
       "\n",
       "    .dataframe thead th {\n",
       "        text-align: right;\n",
       "    }\n",
       "</style>\n",
       "<table border=\"1\" class=\"dataframe\">\n",
       "  <thead>\n",
       "    <tr style=\"text-align: right;\">\n",
       "      <th></th>\n",
       "      <th>year</th>\n",
       "      <th>revenue_existing_previous</th>\n",
       "    </tr>\n",
       "  </thead>\n",
       "  <tbody>\n",
       "    <tr>\n",
       "      <th>0</th>\n",
       "      <td>2015</td>\n",
       "      <td>0.00</td>\n",
       "    </tr>\n",
       "    <tr>\n",
       "      <th>1</th>\n",
       "      <td>2016</td>\n",
       "      <td>7465117.12</td>\n",
       "    </tr>\n",
       "    <tr>\n",
       "      <th>2</th>\n",
       "      <td>2017</td>\n",
       "      <td>2620648.65</td>\n",
       "    </tr>\n",
       "  </tbody>\n",
       "</table>\n",
       "</div>"
      ],
      "text/plain": [
       "   year  revenue_existing_previous\n",
       "0  2015                       0.00\n",
       "1  2016                 7465117.12\n",
       "2  2017                 2620648.65"
      ]
     },
     "execution_count": 17,
     "metadata": {},
     "output_type": "execute_result"
    }
   ],
   "source": [
    "revenue_previous = revenue_previous.append({'year':2015,'net_revenue':0},ignore_index = True).rename(columns = {'net_revenue':'revenue_existing_previous'})\n",
    "revenue_previous=revenue_previous.sort_values('year').reset_index(drop=True)\n",
    "revenue_previous"
   ]
  },
  {
   "cell_type": "markdown",
   "metadata": {},
   "source": [
    "## Total Customers Current Year"
   ]
  },
  {
   "cell_type": "code",
   "execution_count": 18,
   "metadata": {},
   "outputs": [
    {
     "data": {
      "text/html": [
       "<div>\n",
       "<style scoped>\n",
       "    .dataframe tbody tr th:only-of-type {\n",
       "        vertical-align: middle;\n",
       "    }\n",
       "\n",
       "    .dataframe tbody tr th {\n",
       "        vertical-align: top;\n",
       "    }\n",
       "\n",
       "    .dataframe thead th {\n",
       "        text-align: right;\n",
       "    }\n",
       "</style>\n",
       "<table border=\"1\" class=\"dataframe\">\n",
       "  <thead>\n",
       "    <tr style=\"text-align: right;\">\n",
       "      <th></th>\n",
       "      <th>year</th>\n",
       "      <th>total_customers</th>\n",
       "    </tr>\n",
       "  </thead>\n",
       "  <tbody>\n",
       "    <tr>\n",
       "      <th>0</th>\n",
       "      <td>2015</td>\n",
       "      <td>231294</td>\n",
       "    </tr>\n",
       "    <tr>\n",
       "      <th>1</th>\n",
       "      <td>2016</td>\n",
       "      <td>204646</td>\n",
       "    </tr>\n",
       "    <tr>\n",
       "      <th>2</th>\n",
       "      <td>2017</td>\n",
       "      <td>249987</td>\n",
       "    </tr>\n",
       "  </tbody>\n",
       "</table>\n",
       "</div>"
      ],
      "text/plain": [
       "   year  total_customers\n",
       "0  2015           231294\n",
       "1  2016           204646\n",
       "2  2017           249987"
      ]
     },
     "execution_count": 18,
     "metadata": {},
     "output_type": "execute_result"
    }
   ],
   "source": [
    "total_customers = pd.pivot_table(data = data,\n",
    "                               values = 'customer_email',\n",
    "                              index = 'year',\n",
    "                              aggfunc = 'count').reset_index()\n",
    "total_customers = total_customers.rename(columns = {'customer_email':'total_customers'})\n",
    "total_customers"
   ]
  },
  {
   "cell_type": "markdown",
   "metadata": {},
   "source": [
    "## Total Customers Previous Year"
   ]
  },
  {
   "cell_type": "code",
   "execution_count": 19,
   "metadata": {},
   "outputs": [
    {
     "data": {
      "text/html": [
       "<div>\n",
       "<style scoped>\n",
       "    .dataframe tbody tr th:only-of-type {\n",
       "        vertical-align: middle;\n",
       "    }\n",
       "\n",
       "    .dataframe tbody tr th {\n",
       "        vertical-align: top;\n",
       "    }\n",
       "\n",
       "    .dataframe thead th {\n",
       "        text-align: right;\n",
       "    }\n",
       "</style>\n",
       "<table border=\"1\" class=\"dataframe\">\n",
       "  <thead>\n",
       "    <tr style=\"text-align: right;\">\n",
       "      <th></th>\n",
       "      <th>year</th>\n",
       "      <th>customers_previous_year</th>\n",
       "    </tr>\n",
       "  </thead>\n",
       "  <tbody>\n",
       "    <tr>\n",
       "      <th>0</th>\n",
       "      <td>2015</td>\n",
       "      <td>0</td>\n",
       "    </tr>\n",
       "    <tr>\n",
       "      <th>1</th>\n",
       "      <td>2016</td>\n",
       "      <td>59584</td>\n",
       "    </tr>\n",
       "    <tr>\n",
       "      <th>2</th>\n",
       "      <td>2017</td>\n",
       "      <td>20959</td>\n",
       "    </tr>\n",
       "  </tbody>\n",
       "</table>\n",
       "</div>"
      ],
      "text/plain": [
       "   year  customers_previous_year\n",
       "0  2015                        0\n",
       "1  2016                    59584\n",
       "2  2017                    20959"
      ]
     },
     "execution_count": 19,
     "metadata": {},
     "output_type": "execute_result"
    }
   ],
   "source": [
    "previous_year = pd.DataFrame(total_previous.customer_email.groupby(total_previous['year']+1).count()).reset_index()\n",
    "previous_year = previous_year.append({'year':2015,'customer_email':0},ignore_index = True).rename(columns = {'customer_email':'customers_previous_year'})\n",
    "previous_year = previous_year.sort_values('year').reset_index(drop=True)\n",
    "previous_year"
   ]
  },
  {
   "cell_type": "markdown",
   "metadata": {},
   "source": [
    "## New Customers"
   ]
  },
  {
   "cell_type": "code",
   "execution_count": 20,
   "metadata": {},
   "outputs": [
    {
     "data": {
      "text/html": [
       "<div>\n",
       "<style scoped>\n",
       "    .dataframe tbody tr th:only-of-type {\n",
       "        vertical-align: middle;\n",
       "    }\n",
       "\n",
       "    .dataframe tbody tr th {\n",
       "        vertical-align: top;\n",
       "    }\n",
       "\n",
       "    .dataframe thead th {\n",
       "        text-align: right;\n",
       "    }\n",
       "</style>\n",
       "<table border=\"1\" class=\"dataframe\">\n",
       "  <thead>\n",
       "    <tr style=\"text-align: right;\">\n",
       "      <th></th>\n",
       "      <th>year</th>\n",
       "      <th>new_customers</th>\n",
       "    </tr>\n",
       "  </thead>\n",
       "  <tbody>\n",
       "    <tr>\n",
       "      <th>0</th>\n",
       "      <td>2015</td>\n",
       "      <td>231294</td>\n",
       "    </tr>\n",
       "    <tr>\n",
       "      <th>1</th>\n",
       "      <td>2016</td>\n",
       "      <td>145062</td>\n",
       "    </tr>\n",
       "    <tr>\n",
       "      <th>2</th>\n",
       "      <td>2017</td>\n",
       "      <td>229028</td>\n",
       "    </tr>\n",
       "  </tbody>\n",
       "</table>\n",
       "</div>"
      ],
      "text/plain": [
       "   year  new_customers\n",
       "0  2015         231294\n",
       "1  2016         145062\n",
       "2  2017         229028"
      ]
     },
     "execution_count": 20,
     "metadata": {},
     "output_type": "execute_result"
    }
   ],
   "source": [
    "total_newcustomers = pd.pivot_table(data = total,\n",
    "                               values = 'customer_email',\n",
    "                              index = 'year',\n",
    "                              aggfunc = 'count').reset_index()\n",
    "total_newcustomers = total_newcustomers.rename(columns = {'customer_email':'new_customers'})\n",
    "total_newcustomers"
   ]
  },
  {
   "cell_type": "markdown",
   "metadata": {},
   "source": [
    "## Lost Customers"
   ]
  },
  {
   "cell_type": "code",
   "execution_count": 21,
   "metadata": {},
   "outputs": [],
   "source": [
    "summary = total_customers.join(total_newcustomers.set_index('year'), on ='year')\n",
    "total_lost = pd.DataFrame(total_lost['customer_email'].groupby(total_lost['year']+1).count()).reset_index()"
   ]
  },
  {
   "cell_type": "code",
   "execution_count": 22,
   "metadata": {},
   "outputs": [
    {
     "data": {
      "text/html": [
       "<div>\n",
       "<style scoped>\n",
       "    .dataframe tbody tr th:only-of-type {\n",
       "        vertical-align: middle;\n",
       "    }\n",
       "\n",
       "    .dataframe tbody tr th {\n",
       "        vertical-align: top;\n",
       "    }\n",
       "\n",
       "    .dataframe thead th {\n",
       "        text-align: right;\n",
       "    }\n",
       "</style>\n",
       "<table border=\"1\" class=\"dataframe\">\n",
       "  <thead>\n",
       "    <tr style=\"text-align: right;\">\n",
       "      <th></th>\n",
       "      <th>year</th>\n",
       "      <th>lost_customers</th>\n",
       "    </tr>\n",
       "  </thead>\n",
       "  <tbody>\n",
       "    <tr>\n",
       "      <th>0</th>\n",
       "      <td>2015</td>\n",
       "      <td>0</td>\n",
       "    </tr>\n",
       "    <tr>\n",
       "      <th>1</th>\n",
       "      <td>2016</td>\n",
       "      <td>171710</td>\n",
       "    </tr>\n",
       "    <tr>\n",
       "      <th>2</th>\n",
       "      <td>2017</td>\n",
       "      <td>183687</td>\n",
       "    </tr>\n",
       "  </tbody>\n",
       "</table>\n",
       "</div>"
      ],
      "text/plain": [
       "   year  lost_customers\n",
       "0  2015               0\n",
       "1  2016          171710\n",
       "2  2017          183687"
      ]
     },
     "execution_count": 22,
     "metadata": {},
     "output_type": "execute_result"
    }
   ],
   "source": [
    "total_lost = total_lost.append({'year':2015,'customer_email':0},ignore_index=True).rename(columns = {'customer_email':'lost_customers'})\n",
    "total_lost = total_lost.sort_values('year').reset_index(drop=True)\n",
    "total_lost"
   ]
  },
  {
   "cell_type": "markdown",
   "metadata": {},
   "source": [
    "## Visulization"
   ]
  },
  {
   "cell_type": "code",
   "execution_count": 23,
   "metadata": {},
   "outputs": [
    {
     "data": {
      "text/plain": [
       "<matplotlib.legend.Legend at 0x7ff0b34fe0d0>"
      ]
     },
     "execution_count": 23,
     "metadata": {},
     "output_type": "execute_result"
    },
    {
     "data": {
      "text/plain": [
       "<Figure size 720x504 with 0 Axes>"
      ]
     },
     "metadata": {},
     "output_type": "display_data"
    },
    {
     "data": {
      "image/png": "[encoded data removed]",
      "text/plain": [
       "<Figure size 432x288 with 2 Axes>"
      ]
     },
     "metadata": {
      "needs_background": "light"
     },
     "output_type": "display_data"
    }
   ],
   "source": [
    "# new customer for each year and lost customers \n",
    "plt.figure(figsize = (10,7))\n",
    "compare = total_newcustomers.join(total_lost.set_index('year'), on = 'year')\n",
    "compare = compare.set_index('year')\n",
    "fig = plt.figure()\n",
    "ax1 = fig.subplots()\n",
    "ax2 = ax1.twinx()\n",
    "width = 0.3\n",
    "compare.new_customers.plot(kind='bar',color='green',ax=ax1,width=width, position=0)\n",
    "compare.lost_customers.plot(kind='bar',color='orange', ax=ax2,width = width,position=1)\n",
    "ax1.set_ylabel('new customers')\n",
    "ax2.set_ylabel('lost customers')\n",
    "plt.title('new customers vs. lost customers')\n",
    "ax1.legend(['new_customers'])\n",
    "ax2.legend(['lost_customers'])\n",
    "# In year 2016, the number of new customers is very low "
   ]
  },
  {
   "cell_type": "code",
   "execution_count": 24,
   "metadata": {},
   "outputs": [
    {
     "data": {
      "text/html": [
       "<div>\n",
       "<style scoped>\n",
       "    .dataframe tbody tr th:only-of-type {\n",
       "        vertical-align: middle;\n",
       "    }\n",
       "\n",
       "    .dataframe tbody tr th {\n",
       "        vertical-align: top;\n",
       "    }\n",
       "\n",
       "    .dataframe thead th {\n",
       "        text-align: right;\n",
       "    }\n",
       "</style>\n",
       "<table border=\"1\" class=\"dataframe\">\n",
       "  <thead>\n",
       "    <tr style=\"text-align: right;\">\n",
       "      <th></th>\n",
       "      <th>year</th>\n",
       "      <th>new_customers</th>\n",
       "      <th>total_customers</th>\n",
       "      <th>revenue_new_customers</th>\n",
       "      <th>total_revenue</th>\n",
       "    </tr>\n",
       "  </thead>\n",
       "  <tbody>\n",
       "    <tr>\n",
       "      <th>0</th>\n",
       "      <td>2015</td>\n",
       "      <td>231294</td>\n",
       "      <td>231294</td>\n",
       "      <td>29036749.19</td>\n",
       "      <td>29036749.19</td>\n",
       "    </tr>\n",
       "    <tr>\n",
       "      <th>1</th>\n",
       "      <td>2016</td>\n",
       "      <td>145062</td>\n",
       "      <td>204646</td>\n",
       "      <td>18245491.01</td>\n",
       "      <td>25730943.59</td>\n",
       "    </tr>\n",
       "    <tr>\n",
       "      <th>2</th>\n",
       "      <td>2017</td>\n",
       "      <td>229028</td>\n",
       "      <td>249987</td>\n",
       "      <td>28776235.04</td>\n",
       "      <td>31417495.03</td>\n",
       "    </tr>\n",
       "  </tbody>\n",
       "</table>\n",
       "</div>"
      ],
      "text/plain": [
       "   year  new_customers  total_customers  revenue_new_customers  total_revenue\n",
       "0  2015         231294           231294            29036749.19    29036749.19\n",
       "1  2016         145062           204646            18245491.01    25730943.59\n",
       "2  2017         229028           249987            28776235.04    31417495.03"
      ]
     },
     "execution_count": 24,
     "metadata": {},
     "output_type": "execute_result"
    }
   ],
   "source": [
    "#percentage of new customers each year(#customers new this year/#customers this year) \n",
    "#and percentage of new revenue each year(revenue new this year/revenue this year)\n",
    "total_newcustomers['total_customers'] =  total_customers['total_customers']\n",
    "total_newcustomers['revenue_new_customers'] = total_new_revenue['net_revenue']\n",
    "total_newcustomers['total_revenue'] = total_revenue['net_revenue']\n",
    "total_newcustomers"
   ]
  },
  {
   "cell_type": "code",
   "execution_count": 25,
   "metadata": {},
   "outputs": [],
   "source": [
    "total_newcustomers['average_newcustomer_revenue'] = total_newcustomers['revenue_new_customers']/total_newcustomers['new_customers']"
   ]
  },
  {
   "cell_type": "code",
   "execution_count": 26,
   "metadata": {},
   "outputs": [
    {
     "data": {
      "text/html": [
       "<div>\n",
       "<style scoped>\n",
       "    .dataframe tbody tr th:only-of-type {\n",
       "        vertical-align: middle;\n",
       "    }\n",
       "\n",
       "    .dataframe tbody tr th {\n",
       "        vertical-align: top;\n",
       "    }\n",
       "\n",
       "    .dataframe thead th {\n",
       "        text-align: right;\n",
       "    }\n",
       "</style>\n",
       "<table border=\"1\" class=\"dataframe\">\n",
       "  <thead>\n",
       "    <tr style=\"text-align: right;\">\n",
       "      <th></th>\n",
       "      <th>year</th>\n",
       "      <th>new_customers</th>\n",
       "      <th>total_customers</th>\n",
       "      <th>revenue_new_customers</th>\n",
       "      <th>total_revenue</th>\n",
       "      <th>average_newcustomer_revenue</th>\n",
       "    </tr>\n",
       "  </thead>\n",
       "  <tbody>\n",
       "    <tr>\n",
       "      <th>0</th>\n",
       "      <td>2015</td>\n",
       "      <td>231294</td>\n",
       "      <td>231294</td>\n",
       "      <td>29036749.19</td>\n",
       "      <td>29036749.19</td>\n",
       "      <td>125.540434</td>\n",
       "    </tr>\n",
       "    <tr>\n",
       "      <th>1</th>\n",
       "      <td>2016</td>\n",
       "      <td>145062</td>\n",
       "      <td>204646</td>\n",
       "      <td>18245491.01</td>\n",
       "      <td>25730943.59</td>\n",
       "      <td>125.777192</td>\n",
       "    </tr>\n",
       "    <tr>\n",
       "      <th>2</th>\n",
       "      <td>2017</td>\n",
       "      <td>229028</td>\n",
       "      <td>249987</td>\n",
       "      <td>28776235.04</td>\n",
       "      <td>31417495.03</td>\n",
       "      <td>125.645052</td>\n",
       "    </tr>\n",
       "  </tbody>\n",
       "</table>\n",
       "</div>"
      ],
      "text/plain": [
       "   year  new_customers  total_customers  revenue_new_customers  total_revenue  \\\n",
       "0  2015         231294           231294            29036749.19    29036749.19   \n",
       "1  2016         145062           204646            18245491.01    25730943.59   \n",
       "2  2017         229028           249987            28776235.04    31417495.03   \n",
       "\n",
       "   average_newcustomer_revenue  \n",
       "0                   125.540434  \n",
       "1                   125.777192  \n",
       "2                   125.645052  "
      ]
     },
     "execution_count": 26,
     "metadata": {},
     "output_type": "execute_result"
    }
   ],
   "source": [
    "total_newcustomers"
   ]
  },
  {
   "cell_type": "code",
   "execution_count": 27,
   "metadata": {},
   "outputs": [
    {
     "data": {
      "text/plain": [
       "<matplotlib.axes._subplots.AxesSubplot at 0x7ff0b45a2190>"
      ]
     },
     "execution_count": 27,
     "metadata": {},
     "output_type": "execute_result"
    },
    {
     "data": {
      "image/png": "[encoded data removed]",
      "text/plain": [
       "<Figure size 720x504 with 1 Axes>"
      ]
     },
     "metadata": {
      "needs_background": "light"
     },
     "output_type": "display_data"
    }
   ],
   "source": [
    "plt.figure(figsize = (10,7))\n",
    "sns.barplot(x= 'year',y = 'average_newcustomer_revenue',data= total_newcustomers)\n",
    "# The average revenue generated by new_customers are similar for each year,\n",
    "#after calculation, in each year, all customers generates similar revenue"
   ]
  },
  {
   "cell_type": "code",
   "execution_count": 28,
   "metadata": {},
   "outputs": [
    {
     "data": {
      "text/html": [
       "<div>\n",
       "<style scoped>\n",
       "    .dataframe tbody tr th:only-of-type {\n",
       "        vertical-align: middle;\n",
       "    }\n",
       "\n",
       "    .dataframe tbody tr th {\n",
       "        vertical-align: top;\n",
       "    }\n",
       "\n",
       "    .dataframe thead th {\n",
       "        text-align: right;\n",
       "    }\n",
       "</style>\n",
       "<table border=\"1\" class=\"dataframe\">\n",
       "  <thead>\n",
       "    <tr style=\"text-align: right;\">\n",
       "      <th></th>\n",
       "      <th>year</th>\n",
       "      <th>new_customers</th>\n",
       "      <th>total_customers</th>\n",
       "      <th>revenue_new_customers</th>\n",
       "      <th>total_revenue</th>\n",
       "      <th>average_newcustomer_revenue</th>\n",
       "      <th>existing customers rate</th>\n",
       "      <th>new customers rate</th>\n",
       "    </tr>\n",
       "  </thead>\n",
       "  <tbody>\n",
       "    <tr>\n",
       "      <th>0</th>\n",
       "      <td>2015</td>\n",
       "      <td>231294</td>\n",
       "      <td>231294</td>\n",
       "      <td>29036749.19</td>\n",
       "      <td>29036749.19</td>\n",
       "      <td>125.540434</td>\n",
       "      <td>0.000000</td>\n",
       "      <td>100.000000</td>\n",
       "    </tr>\n",
       "    <tr>\n",
       "      <th>1</th>\n",
       "      <td>2016</td>\n",
       "      <td>145062</td>\n",
       "      <td>204646</td>\n",
       "      <td>18245491.01</td>\n",
       "      <td>25730943.59</td>\n",
       "      <td>125.777192</td>\n",
       "      <td>29.115644</td>\n",
       "      <td>70.884356</td>\n",
       "    </tr>\n",
       "    <tr>\n",
       "      <th>2</th>\n",
       "      <td>2017</td>\n",
       "      <td>229028</td>\n",
       "      <td>249987</td>\n",
       "      <td>28776235.04</td>\n",
       "      <td>31417495.03</td>\n",
       "      <td>125.645052</td>\n",
       "      <td>8.384036</td>\n",
       "      <td>91.615964</td>\n",
       "    </tr>\n",
       "  </tbody>\n",
       "</table>\n",
       "</div>"
      ],
      "text/plain": [
       "   year  new_customers  total_customers  revenue_new_customers  total_revenue  \\\n",
       "0  2015         231294           231294            29036749.19    29036749.19   \n",
       "1  2016         145062           204646            18245491.01    25730943.59   \n",
       "2  2017         229028           249987            28776235.04    31417495.03   \n",
       "\n",
       "   average_newcustomer_revenue  existing customers rate  new customers rate  \n",
       "0                   125.540434                 0.000000          100.000000  \n",
       "1                   125.777192                29.115644           70.884356  \n",
       "2                   125.645052                 8.384036           91.615964  "
      ]
     },
     "execution_count": 28,
     "metadata": {},
     "output_type": "execute_result"
    }
   ],
   "source": [
    "# the percentage of existing customers each year and new customers each year\n",
    "total_newcustomers['existing customers rate'] = (total_newcustomers['total_customers']-total_newcustomers['new_customers'])/total_newcustomers['total_customers']*100\n",
    "total_newcustomers['new customers rate'] =total_newcustomers['new_customers']/total_newcustomers['total_customers']*100\n",
    "total_newcustomers"
   ]
  },
  {
   "cell_type": "code",
   "execution_count": 29,
   "metadata": {},
   "outputs": [
    {
     "data": {
      "image/png": "[encoded data removed]",
      "text/plain": [
       "<Figure size 432x288 with 1 Axes>"
      ]
     },
     "metadata": {
      "needs_background": "light"
     },
     "output_type": "display_data"
    }
   ],
   "source": [
    "ax = total_newcustomers.plot(x=\"year\", y=\"new customers rate\", kind=\"bar\",stacked=True,color = 'coral')\n",
    "total_newcustomers.plot(x=\"year\", y=\"existing customers rate\", kind=\"bar\", ax=ax, color=\"lavender\",stacked=True)\n",
    "plt.show()\n",
    "# In year 2016, existing customers are most in three years"
   ]
  },
  {
   "cell_type": "code",
   "execution_count": 30,
   "metadata": {},
   "outputs": [
    {
     "data": {
      "text/html": [
       "<div>\n",
       "<style scoped>\n",
       "    .dataframe tbody tr th:only-of-type {\n",
       "        vertical-align: middle;\n",
       "    }\n",
       "\n",
       "    .dataframe tbody tr th {\n",
       "        vertical-align: top;\n",
       "    }\n",
       "\n",
       "    .dataframe thead th {\n",
       "        text-align: right;\n",
       "    }\n",
       "</style>\n",
       "<table border=\"1\" class=\"dataframe\">\n",
       "  <thead>\n",
       "    <tr style=\"text-align: right;\">\n",
       "      <th></th>\n",
       "      <th>year</th>\n",
       "      <th>retention_rate</th>\n",
       "    </tr>\n",
       "  </thead>\n",
       "  <tbody>\n",
       "    <tr>\n",
       "      <th>0</th>\n",
       "      <td>2015</td>\n",
       "      <td>0.000000</td>\n",
       "    </tr>\n",
       "    <tr>\n",
       "      <th>1</th>\n",
       "      <td>2016</td>\n",
       "      <td>25.761152</td>\n",
       "    </tr>\n",
       "    <tr>\n",
       "      <th>2</th>\n",
       "      <td>2017</td>\n",
       "      <td>10.241588</td>\n",
       "    </tr>\n",
       "  </tbody>\n",
       "</table>\n",
       "</div>"
      ],
      "text/plain": [
       "   year  retention_rate\n",
       "0  2015        0.000000\n",
       "1  2016       25.761152\n",
       "2  2017       10.241588"
      ]
     },
     "execution_count": 30,
     "metadata": {},
     "output_type": "execute_result"
    }
   ],
   "source": [
    "#retention rate\n",
    "retention = pd.DataFrame({'year':[2015,2016,2017],\n",
    "                         'retention_rate':[0,59584/231294*100,20959/204646*100]})\n",
    "retention"
   ]
  },
  {
   "cell_type": "code",
   "execution_count": 31,
   "metadata": {},
   "outputs": [
    {
     "data": {
      "text/plain": [
       "<matplotlib.axes._subplots.AxesSubplot at 0x7ff0b48629a0>"
      ]
     },
     "execution_count": 31,
     "metadata": {},
     "output_type": "execute_result"
    },
    {
     "data": {
      "image/png": "[encoded data removed]",
      "text/plain": [
       "<Figure size 720x504 with 1 Axes>"
      ]
     },
     "metadata": {
      "needs_background": "light"
     },
     "output_type": "display_data"
    }
   ],
   "source": [
    "plt.figure(figsize = (10,7))\n",
    "sns.lineplot(x='year',y = 'retention_rate',data = retention,color = 'salmon')\n",
    "#the retention rate is highest in 2016"
   ]
  },
  {
   "cell_type": "code",
   "execution_count": 32,
   "metadata": {},
   "outputs": [
    {
     "data": {
      "text/html": [
       "<div>\n",
       "<style scoped>\n",
       "    .dataframe tbody tr th:only-of-type {\n",
       "        vertical-align: middle;\n",
       "    }\n",
       "\n",
       "    .dataframe tbody tr th {\n",
       "        vertical-align: top;\n",
       "    }\n",
       "\n",
       "    .dataframe thead th {\n",
       "        text-align: right;\n",
       "    }\n",
       "</style>\n",
       "<table border=\"1\" class=\"dataframe\">\n",
       "  <thead>\n",
       "    <tr style=\"text-align: right;\">\n",
       "      <th></th>\n",
       "      <th>year</th>\n",
       "      <th>net_revenue</th>\n",
       "      <th>new_customer_revenue</th>\n",
       "      <th>existing_cusomer_growth</th>\n",
       "      <th>revenue_lost_from_attrition</th>\n",
       "      <th>existing_customer_revenue_current_year</th>\n",
       "      <th>existing_customer_revenue_prior_year</th>\n",
       "      <th>total_customer_current_year</th>\n",
       "      <th>total_customer_previous_year</th>\n",
       "      <th>new_customers</th>\n",
       "      <th>lost_customers</th>\n",
       "    </tr>\n",
       "  </thead>\n",
       "  <tbody>\n",
       "    <tr>\n",
       "      <th>0</th>\n",
       "      <td>2015</td>\n",
       "      <td>29036749.19</td>\n",
       "      <td>29036749.19</td>\n",
       "      <td>0.00</td>\n",
       "      <td>0.00</td>\n",
       "      <td>0.00</td>\n",
       "      <td>0.00</td>\n",
       "      <td>231294</td>\n",
       "      <td>0</td>\n",
       "      <td>231294</td>\n",
       "      <td>0</td>\n",
       "    </tr>\n",
       "    <tr>\n",
       "      <th>1</th>\n",
       "      <td>2016</td>\n",
       "      <td>25730943.59</td>\n",
       "      <td>18245491.01</td>\n",
       "      <td>7485452.58</td>\n",
       "      <td>21571632.07</td>\n",
       "      <td>7485452.58</td>\n",
       "      <td>7465117.12</td>\n",
       "      <td>204646</td>\n",
       "      <td>59584</td>\n",
       "      <td>145062</td>\n",
       "      <td>171710</td>\n",
       "    </tr>\n",
       "    <tr>\n",
       "      <th>2</th>\n",
       "      <td>2017</td>\n",
       "      <td>31417495.03</td>\n",
       "      <td>28776235.04</td>\n",
       "      <td>-4844192.59</td>\n",
       "      <td>23110294.94</td>\n",
       "      <td>2641259.99</td>\n",
       "      <td>2620648.65</td>\n",
       "      <td>249987</td>\n",
       "      <td>20959</td>\n",
       "      <td>229028</td>\n",
       "      <td>183687</td>\n",
       "    </tr>\n",
       "  </tbody>\n",
       "</table>\n",
       "</div>"
      ],
      "text/plain": [
       "   year  net_revenue  new_customer_revenue  existing_cusomer_growth  \\\n",
       "0  2015  29036749.19           29036749.19                     0.00   \n",
       "1  2016  25730943.59           18245491.01               7485452.58   \n",
       "2  2017  31417495.03           28776235.04              -4844192.59   \n",
       "\n",
       "   revenue_lost_from_attrition  existing_customer_revenue_current_year  \\\n",
       "0                         0.00                                    0.00   \n",
       "1                  21571632.07                              7485452.58   \n",
       "2                  23110294.94                              2641259.99   \n",
       "\n",
       "   existing_customer_revenue_prior_year  total_customer_current_year  \\\n",
       "0                                  0.00                       231294   \n",
       "1                            7465117.12                       204646   \n",
       "2                            2620648.65                       249987   \n",
       "\n",
       "   total_customer_previous_year  new_customers  lost_customers  \n",
       "0                             0         231294               0  \n",
       "1                         59584         145062          171710  \n",
       "2                         20959         229028          183687  "
      ]
     },
     "execution_count": 32,
     "metadata": {},
     "output_type": "execute_result"
    }
   ],
   "source": [
    "total_revenue['new_customer_revenue'] = total_new_revenue['net_revenue']\n",
    "total_revenue['existing_cusomer_growth'] = existing_customer_growth['existing_growth']\n",
    "total_revenue['revenue_lost_from_attrition'] = revenue_attrition['revenue_lost_from_sttrition']\n",
    "total_revenue['existing_customer_revenue_current_year'] = revenue_current['revenue_existing_current']\n",
    "total_revenue['existing_customer_revenue_prior_year'] = revenue_previous['revenue_existing_previous']\n",
    "total_revenue['total_customer_current_year'] = total_customers['total_customers']\n",
    "total_revenue['total_customer_previous_year'] = previous_year['customers_previous_year']\n",
    "total_revenue['new_customers'] = total_newcustomers['new_customers']\n",
    "total_revenue['lost_customers'] = total_lost['lost_customers']\n",
    "total_revenue "
   ]
  },
  {
   "cell_type": "code",
   "execution_count": 36,
   "metadata": {},
   "outputs": [],
   "source": [
    "total_revenue.to_html('case#2result.html')"
   ]
  },
  {
   "cell_type": "code",
   "execution_count": 35,
   "metadata": {},
   "outputs": [
    {
     "name": "stdout",
     "output_type": "stream",
     "text": [
      "<table border=\"1\" class=\"dataframe\">\n",
      "  <thead>\n",
      "    <tr style=\"text-align: right;\">\n",
      "      <th></th>\n",
      "      <th>year</th>\n",
      "      <th>net_revenue</th>\n",
      "      <th>new_customer_revenue</th>\n",
      "      <th>existing_cusomer_growth</th>\n",
      "      <th>revenue_lost_from_attrition</th>\n",
      "      <th>existing_customer_revenue_current_year</th>\n",
      "      <th>existing_customer_revenue_prior_year</th>\n",
      "      <th>total_customer_current_year</th>\n",
      "      <th>total_customer_previous_year</th>\n",
      "      <th>new_customers</th>\n",
      "      <th>lost_customers</th>\n",
      "    </tr>\n",
      "  </thead>\n",
      "  <tbody>\n",
      "    <tr>\n",
      "      <th>0</th>\n",
      "      <td>2015</td>\n",
      "      <td>29036749.19</td>\n",
      "      <td>29036749.19</td>\n",
      "      <td>0.00</td>\n",
      "      <td>0.00</td>\n",
      "      <td>0.00</td>\n",
      "      <td>0.00</td>\n",
      "      <td>231294</td>\n",
      "      <td>0</td>\n",
      "      <td>231294</td>\n",
      "      <td>0</td>\n",
      "    </tr>\n",
      "    <tr>\n",
      "      <th>1</th>\n",
      "      <td>2016</td>\n",
      "      <td>25730943.59</td>\n",
      "      <td>18245491.01</td>\n",
      "      <td>7485452.58</td>\n",
      "      <td>21571632.07</td>\n",
      "      <td>7485452.58</td>\n",
      "      <td>7465117.12</td>\n",
      "      <td>204646</td>\n",
      "      <td>59584</td>\n",
      "      <td>145062</td>\n",
      "      <td>171710</td>\n",
      "    </tr>\n",
      "    <tr>\n",
      "      <th>2</th>\n",
      "      <td>2017</td>\n",
      "      <td>31417495.03</td>\n",
      "      <td>28776235.04</td>\n",
      "      <td>-4844192.59</td>\n",
      "      <td>23110294.94</td>\n",
      "      <td>2641259.99</td>\n",
      "      <td>2620648.65</td>\n",
      "      <td>249987</td>\n",
      "      <td>20959</td>\n",
      "      <td>229028</td>\n",
      "      <td>183687</td>\n",
      "    </tr>\n",
      "  </tbody>\n",
      "</table>\n"
     ]
    }
   ],
   "source": [
    "print(html)"
   ]
  },
  {
   "cell_type": "code",
   "execution_count": null,
   "metadata": {},
   "outputs": [],
   "source": []
  }
 ],
 "metadata": {
  "kernelspec": {
   "display_name": "Python 3",
   "language": "python",
   "name": "python3"
  },
  "language_info": {
   "codemirror_mode": {
    "name": "ipython",
    "version": 3
   },
   "file_extension": ".py",
   "mimetype": "text/x-python",
   "name": "python",
   "nbconvert_exporter": "python",
   "pygments_lexer": "ipython3",
   "version": "3.8.3"
  }
 },
 "nbformat": 4,
 "nbformat_minor": 4
}
